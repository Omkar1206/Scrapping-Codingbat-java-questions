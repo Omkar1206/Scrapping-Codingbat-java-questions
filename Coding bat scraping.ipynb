{
 "cells": [
  {
   "cell_type": "code",
   "execution_count": 13,
   "metadata": {},
   "outputs": [
    {
     "name": "stdout",
     "output_type": "stream",
     "text": [
      "The parameter weekday is True if it is a weekday, and the parameter vacation is True if we are on vacation. We sleep in if it is not a weekday or we're on vacation. Return True if we sleep in.\n",
      "\n",
      "sleep_in(False, False) → True\n",
      "\n",
      "sleep_in(True, False) → False\n",
      "\n",
      "sleep_in(False, True) → True\n",
      "\n",
      "\n"
     ]
    }
   ],
   "source": [
    "class java_coding_bat_qts():\n",
    "    #importing libraries\n",
    "    from selenium import webdriver\n",
    "    from bs4 import BeautifulSoup\n",
    "\n",
    "    #Creating a driver which will open chrome page and get the url page i.e. coding bat website\n",
    "    driver=webdriver.Chrome('chromedriver.exe')\n",
    "    url='https://codingbat.com/python'\n",
    "    driver.get(url)\n",
    "\n",
    "\n",
    "    #Using beautiful soup to soup the html page\n",
    "    soup=BeautifulSoup(driver.page_source,'lxml')\n",
    "\n",
    "    #Getting all the link to header of questions\n",
    "    \n",
    "    all_links=['https://codingbat.com'+div.a['href'] for div in soup.find_all('div',{'class':'summ'}) ]\n",
    "\n",
    "    #Accessing all the header links and getting all the links of questions\n",
    "    for link in all_links:\n",
    "        driver.get(link)\n",
    "        new_soup=BeautifulSoup(driver.page_source,'lxml')\n",
    "        new_div=new_soup.find('div',{'class':'tabc'})\n",
    "        in_links=['https://codingbat.com'+i.a['href'] for i in new_div.table.find_all('td')]\n",
    "    #Accesing all the question links and scraping out the questions\n",
    "        for l in in_links:\n",
    "            driver.get(l)\n",
    "            in_soup=BeautifulSoup(driver.page_source,'lxml')\n",
    "            in_div=in_soup.find('div',{'class':'indent'})\n",
    "            ps=in_div.table.div.string\n",
    "            print(ps)\n",
    "            ns=in_div.div.next_siblings\n",
    "            for k in ns: \n",
    "                print(k.string if k.string is not None else '')\n",
    "            \n",
    "\n",
    "\n",
    "        \n"
   ]
  },
  {
   "cell_type": "code",
   "execution_count": null,
   "metadata": {},
   "outputs": [],
   "source": []
  }
 ],
 "metadata": {
  "kernelspec": {
   "display_name": "Python 3",
   "language": "python",
   "name": "python3"
  },
  "language_info": {
   "codemirror_mode": {
    "name": "ipython",
    "version": 3
   },
   "file_extension": ".py",
   "mimetype": "text/x-python",
   "name": "python",
   "nbconvert_exporter": "python",
   "pygments_lexer": "ipython3",
   "version": "3.6.3"
  }
 },
 "nbformat": 4,
 "nbformat_minor": 2
}
